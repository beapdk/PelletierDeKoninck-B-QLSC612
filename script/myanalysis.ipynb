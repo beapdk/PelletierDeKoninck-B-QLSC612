{
 "cells": [
  {
   "cell_type": "markdown",
   "metadata": {},
   "source": [
    "Here's my assignment for week one of BrainHack school 2020. "
   ]
  },
  {
   "cell_type": "markdown",
   "metadata": {},
   "source": [
    "This assignment will be featuring two multilinear regression models based on the dataset \"brainsize.csv\", that includes different variables:\n",
    "\n",
    "* Gender\n",
    "* Full Scale Intelligence Quotient as FSIQ\n",
    "* Verbal Intelligence Quotient as VIQ\n",
    "* Performance Intellignece Quotient as PIQ\n",
    "* Brain volume (voxel count) as MRI_Count\n",
    "* Body weight as Weight\n",
    "* Body Height as Height\n",
    "\n",
    "Two different random_seed based variables partY and partY2 will have to be. This exercise is designed to demonstrate how easily false positives or inflated prediction rates via p-hacking can be produced."
   ]
  },
  {
   "cell_type": "markdown",
   "metadata": {},
   "source": [
    "#### Create pandas dataframe from .csv file"
   ]
  },
  {
   "cell_type": "markdown",
   "metadata": {},
   "source": [
    "Import needed packages"
   ]
  },
  {
   "cell_type": "code",
   "execution_count": 1,
   "metadata": {},
   "outputs": [],
   "source": [
    "import pandas as pd\n",
    "import numpy as np\n",
    "import random\n",
    "import matplotlib.pyplot as plt\n",
    "from statsmodels.formula.api import ols\n",
    "import statsmodels.api as sm"
   ]
  },
  {
   "cell_type": "markdown",
   "metadata": {},
   "source": [
    "Load brainsize.csv file as reading file"
   ]
  },
  {
   "cell_type": "code",
   "execution_count": 3,
   "metadata": {},
   "outputs": [
    {
     "name": "stdout",
     "output_type": "stream",
     "text": [
      "(40, 7)\n"
     ]
    },
    {
     "data": {
      "text/html": [
       "<div>\n",
       "<style scoped>\n",
       "    .dataframe tbody tr th:only-of-type {\n",
       "        vertical-align: middle;\n",
       "    }\n",
       "\n",
       "    .dataframe tbody tr th {\n",
       "        vertical-align: top;\n",
       "    }\n",
       "\n",
       "    .dataframe thead th {\n",
       "        text-align: right;\n",
       "    }\n",
       "</style>\n",
       "<table border=\"1\" class=\"dataframe\">\n",
       "  <thead>\n",
       "    <tr style=\"text-align: right;\">\n",
       "      <th></th>\n",
       "      <th>Gender</th>\n",
       "      <th>FSIQ</th>\n",
       "      <th>VIQ</th>\n",
       "      <th>PIQ</th>\n",
       "      <th>Weight</th>\n",
       "      <th>Height</th>\n",
       "      <th>MRI_Count</th>\n",
       "    </tr>\n",
       "  </thead>\n",
       "  <tbody>\n",
       "    <tr>\n",
       "      <th>1</th>\n",
       "      <td>Female</td>\n",
       "      <td>133</td>\n",
       "      <td>132</td>\n",
       "      <td>124</td>\n",
       "      <td>118.0</td>\n",
       "      <td>64.5</td>\n",
       "      <td>816932</td>\n",
       "    </tr>\n",
       "    <tr>\n",
       "      <th>2</th>\n",
       "      <td>Male</td>\n",
       "      <td>140</td>\n",
       "      <td>150</td>\n",
       "      <td>124</td>\n",
       "      <td>NaN</td>\n",
       "      <td>72.5</td>\n",
       "      <td>1001121</td>\n",
       "    </tr>\n",
       "    <tr>\n",
       "      <th>3</th>\n",
       "      <td>Male</td>\n",
       "      <td>139</td>\n",
       "      <td>123</td>\n",
       "      <td>150</td>\n",
       "      <td>143.0</td>\n",
       "      <td>73.3</td>\n",
       "      <td>1038437</td>\n",
       "    </tr>\n",
       "    <tr>\n",
       "      <th>4</th>\n",
       "      <td>Male</td>\n",
       "      <td>133</td>\n",
       "      <td>129</td>\n",
       "      <td>128</td>\n",
       "      <td>172.0</td>\n",
       "      <td>68.8</td>\n",
       "      <td>965353</td>\n",
       "    </tr>\n",
       "    <tr>\n",
       "      <th>5</th>\n",
       "      <td>Female</td>\n",
       "      <td>137</td>\n",
       "      <td>132</td>\n",
       "      <td>134</td>\n",
       "      <td>147.0</td>\n",
       "      <td>65.0</td>\n",
       "      <td>951545</td>\n",
       "    </tr>\n",
       "  </tbody>\n",
       "</table>\n",
       "</div>"
      ],
      "text/plain": [
       "   Gender  FSIQ  VIQ  PIQ  Weight  Height  MRI_Count\n",
       "1  Female   133  132  124   118.0    64.5     816932\n",
       "2    Male   140  150  124     NaN    72.5    1001121\n",
       "3    Male   139  123  150   143.0    73.3    1038437\n",
       "4    Male   133  129  128   172.0    68.8     965353\n",
       "5  Female   137  132  134   147.0    65.0     951545"
      ]
     },
     "execution_count": 3,
     "metadata": {},
     "output_type": "execute_result"
    }
   ],
   "source": [
    "#load brainsize.csv file as reading file\n",
    "data = pd.read_csv('brainsize.csv', sep=';', index_col=0, na_values= \".\")\n",
    "print(data.shape)\n",
    "data.head()"
   ]
  },
  {
   "cell_type": "markdown",
   "metadata": {},
   "source": [
    "Identify and verify type of data"
   ]
  },
  {
   "cell_type": "code",
   "execution_count": 4,
   "metadata": {},
   "outputs": [
    {
     "data": {
      "text/plain": [
       "Gender        object\n",
       "FSIQ           int64\n",
       "VIQ            int64\n",
       "PIQ            int64\n",
       "Weight       float64\n",
       "Height       float64\n",
       "MRI_Count      int64\n",
       "dtype: object"
      ]
     },
     "execution_count": 4,
     "metadata": {},
     "output_type": "execute_result"
    }
   ],
   "source": [
    "data.dtypes"
   ]
  },
  {
   "cell_type": "markdown",
   "metadata": {},
   "source": [
    "#### Assess for missing values; for this senario, removal of missing values will be adopted"
   ]
  },
  {
   "cell_type": "code",
   "execution_count": 5,
   "metadata": {},
   "outputs": [
    {
     "data": {
      "text/plain": [
       "(38, 7)"
      ]
     },
     "execution_count": 5,
     "metadata": {},
     "output_type": "execute_result"
    }
   ],
   "source": [
    "data = data.dropna()\n",
    "data.shape #verify dropna. Here 2 rows were excluded."
   ]
  },
  {
   "cell_type": "markdown",
   "metadata": {},
   "source": [
    "###  Descriptive stats"
   ]
  },
  {
   "cell_type": "code",
   "execution_count": 6,
   "metadata": {},
   "outputs": [
    {
     "data": {
      "text/html": [
       "<div>\n",
       "<style scoped>\n",
       "    .dataframe tbody tr th:only-of-type {\n",
       "        vertical-align: middle;\n",
       "    }\n",
       "\n",
       "    .dataframe tbody tr th {\n",
       "        vertical-align: top;\n",
       "    }\n",
       "\n",
       "    .dataframe thead th {\n",
       "        text-align: right;\n",
       "    }\n",
       "</style>\n",
       "<table border=\"1\" class=\"dataframe\">\n",
       "  <thead>\n",
       "    <tr style=\"text-align: right;\">\n",
       "      <th></th>\n",
       "      <th>FSIQ</th>\n",
       "      <th>VIQ</th>\n",
       "      <th>PIQ</th>\n",
       "      <th>Weight</th>\n",
       "      <th>Height</th>\n",
       "      <th>MRI_Count</th>\n",
       "    </tr>\n",
       "  </thead>\n",
       "  <tbody>\n",
       "    <tr>\n",
       "      <th>count</th>\n",
       "      <td>38.000000</td>\n",
       "      <td>38.000000</td>\n",
       "      <td>38.000000</td>\n",
       "      <td>38.000000</td>\n",
       "      <td>38.000000</td>\n",
       "      <td>3.800000e+01</td>\n",
       "    </tr>\n",
       "    <tr>\n",
       "      <th>mean</th>\n",
       "      <td>113.552632</td>\n",
       "      <td>112.131579</td>\n",
       "      <td>111.342105</td>\n",
       "      <td>151.052632</td>\n",
       "      <td>68.421053</td>\n",
       "      <td>9.067542e+05</td>\n",
       "    </tr>\n",
       "    <tr>\n",
       "      <th>std</th>\n",
       "      <td>23.815391</td>\n",
       "      <td>22.939605</td>\n",
       "      <td>22.597867</td>\n",
       "      <td>23.478509</td>\n",
       "      <td>3.993790</td>\n",
       "      <td>7.256175e+04</td>\n",
       "    </tr>\n",
       "    <tr>\n",
       "      <th>min</th>\n",
       "      <td>77.000000</td>\n",
       "      <td>71.000000</td>\n",
       "      <td>72.000000</td>\n",
       "      <td>106.000000</td>\n",
       "      <td>62.000000</td>\n",
       "      <td>7.906190e+05</td>\n",
       "    </tr>\n",
       "    <tr>\n",
       "      <th>25%</th>\n",
       "      <td>90.250000</td>\n",
       "      <td>90.250000</td>\n",
       "      <td>89.250000</td>\n",
       "      <td>135.250000</td>\n",
       "      <td>66.000000</td>\n",
       "      <td>8.548115e+05</td>\n",
       "    </tr>\n",
       "    <tr>\n",
       "      <th>50%</th>\n",
       "      <td>116.500000</td>\n",
       "      <td>113.000000</td>\n",
       "      <td>115.000000</td>\n",
       "      <td>146.500000</td>\n",
       "      <td>68.000000</td>\n",
       "      <td>9.053990e+05</td>\n",
       "    </tr>\n",
       "    <tr>\n",
       "      <th>75%</th>\n",
       "      <td>135.000000</td>\n",
       "      <td>129.000000</td>\n",
       "      <td>128.000000</td>\n",
       "      <td>172.000000</td>\n",
       "      <td>70.375000</td>\n",
       "      <td>9.495405e+05</td>\n",
       "    </tr>\n",
       "    <tr>\n",
       "      <th>max</th>\n",
       "      <td>144.000000</td>\n",
       "      <td>150.000000</td>\n",
       "      <td>150.000000</td>\n",
       "      <td>192.000000</td>\n",
       "      <td>77.000000</td>\n",
       "      <td>1.079549e+06</td>\n",
       "    </tr>\n",
       "  </tbody>\n",
       "</table>\n",
       "</div>"
      ],
      "text/plain": [
       "             FSIQ         VIQ         PIQ      Weight     Height     MRI_Count\n",
       "count   38.000000   38.000000   38.000000   38.000000  38.000000  3.800000e+01\n",
       "mean   113.552632  112.131579  111.342105  151.052632  68.421053  9.067542e+05\n",
       "std     23.815391   22.939605   22.597867   23.478509   3.993790  7.256175e+04\n",
       "min     77.000000   71.000000   72.000000  106.000000  62.000000  7.906190e+05\n",
       "25%     90.250000   90.250000   89.250000  135.250000  66.000000  8.548115e+05\n",
       "50%    116.500000  113.000000  115.000000  146.500000  68.000000  9.053990e+05\n",
       "75%    135.000000  129.000000  128.000000  172.000000  70.375000  9.495405e+05\n",
       "max    144.000000  150.000000  150.000000  192.000000  77.000000  1.079549e+06"
      ]
     },
     "execution_count": 6,
     "metadata": {},
     "output_type": "execute_result"
    }
   ],
   "source": [
    "data.describe()"
   ]
  },
  {
   "cell_type": "markdown",
   "metadata": {},
   "source": [
    "### Create and add partY variable with random values"
   ]
  },
  {
   "cell_type": "code",
   "execution_count": 7,
   "metadata": {},
   "outputs": [
    {
     "data": {
      "text/html": [
       "<div>\n",
       "<style scoped>\n",
       "    .dataframe tbody tr th:only-of-type {\n",
       "        vertical-align: middle;\n",
       "    }\n",
       "\n",
       "    .dataframe tbody tr th {\n",
       "        vertical-align: top;\n",
       "    }\n",
       "\n",
       "    .dataframe thead th {\n",
       "        text-align: right;\n",
       "    }\n",
       "</style>\n",
       "<table border=\"1\" class=\"dataframe\">\n",
       "  <thead>\n",
       "    <tr style=\"text-align: right;\">\n",
       "      <th></th>\n",
       "      <th>Gender</th>\n",
       "      <th>FSIQ</th>\n",
       "      <th>VIQ</th>\n",
       "      <th>PIQ</th>\n",
       "      <th>Weight</th>\n",
       "      <th>Height</th>\n",
       "      <th>MRI_Count</th>\n",
       "      <th>partY</th>\n",
       "    </tr>\n",
       "  </thead>\n",
       "  <tbody>\n",
       "    <tr>\n",
       "      <th>1</th>\n",
       "      <td>Female</td>\n",
       "      <td>133</td>\n",
       "      <td>132</td>\n",
       "      <td>124</td>\n",
       "      <td>118.0</td>\n",
       "      <td>64.5</td>\n",
       "      <td>816932</td>\n",
       "      <td>116.243454</td>\n",
       "    </tr>\n",
       "    <tr>\n",
       "      <th>3</th>\n",
       "      <td>Male</td>\n",
       "      <td>139</td>\n",
       "      <td>123</td>\n",
       "      <td>150</td>\n",
       "      <td>143.0</td>\n",
       "      <td>73.3</td>\n",
       "      <td>1038437</td>\n",
       "      <td>93.882436</td>\n",
       "    </tr>\n",
       "    <tr>\n",
       "      <th>4</th>\n",
       "      <td>Male</td>\n",
       "      <td>133</td>\n",
       "      <td>129</td>\n",
       "      <td>128</td>\n",
       "      <td>172.0</td>\n",
       "      <td>68.8</td>\n",
       "      <td>965353</td>\n",
       "      <td>94.718282</td>\n",
       "    </tr>\n",
       "    <tr>\n",
       "      <th>5</th>\n",
       "      <td>Female</td>\n",
       "      <td>137</td>\n",
       "      <td>132</td>\n",
       "      <td>134</td>\n",
       "      <td>147.0</td>\n",
       "      <td>65.0</td>\n",
       "      <td>951545</td>\n",
       "      <td>89.270314</td>\n",
       "    </tr>\n",
       "    <tr>\n",
       "      <th>6</th>\n",
       "      <td>Female</td>\n",
       "      <td>99</td>\n",
       "      <td>90</td>\n",
       "      <td>110</td>\n",
       "      <td>146.0</td>\n",
       "      <td>69.0</td>\n",
       "      <td>928799</td>\n",
       "      <td>108.654076</td>\n",
       "    </tr>\n",
       "  </tbody>\n",
       "</table>\n",
       "</div>"
      ],
      "text/plain": [
       "   Gender  FSIQ  VIQ  PIQ  Weight  Height  MRI_Count       partY\n",
       "1  Female   133  132  124   118.0    64.5     816932  116.243454\n",
       "3    Male   139  123  150   143.0    73.3    1038437   93.882436\n",
       "4    Male   133  129  128   172.0    68.8     965353   94.718282\n",
       "5  Female   137  132  134   147.0    65.0     951545   89.270314\n",
       "6  Female    99   90  110   146.0    69.0     928799  108.654076"
      ]
     },
     "execution_count": 7,
     "metadata": {},
     "output_type": "execute_result"
    }
   ],
   "source": [
    "np.random.seed(1) # seed for the next random number.\n",
    "data['partY'] = np.random.normal(loc=100, # stands for mean.\n",
    "                                 scale =10, #stands for standard deviation.\n",
    "                                 size = len(data)) #according to data shape (number of rows).\n",
    "data.head()"
   ]
  },
  {
   "cell_type": "markdown",
   "metadata": {},
   "source": [
    "### Creation of random seed variable partY2"
   ]
  },
  {
   "cell_type": "code",
   "execution_count": 8,
   "metadata": {
    "scrolled": false
   },
   "outputs": [
    {
     "data": {
      "text/html": [
       "<div>\n",
       "<style scoped>\n",
       "    .dataframe tbody tr th:only-of-type {\n",
       "        vertical-align: middle;\n",
       "    }\n",
       "\n",
       "    .dataframe tbody tr th {\n",
       "        vertical-align: top;\n",
       "    }\n",
       "\n",
       "    .dataframe thead th {\n",
       "        text-align: right;\n",
       "    }\n",
       "</style>\n",
       "<table border=\"1\" class=\"dataframe\">\n",
       "  <thead>\n",
       "    <tr style=\"text-align: right;\">\n",
       "      <th></th>\n",
       "      <th>Gender</th>\n",
       "      <th>FSIQ</th>\n",
       "      <th>VIQ</th>\n",
       "      <th>PIQ</th>\n",
       "      <th>Weight</th>\n",
       "      <th>Height</th>\n",
       "      <th>MRI_Count</th>\n",
       "      <th>partY</th>\n",
       "      <th>partY2</th>\n",
       "    </tr>\n",
       "  </thead>\n",
       "  <tbody>\n",
       "    <tr>\n",
       "      <th>1</th>\n",
       "      <td>Female</td>\n",
       "      <td>133</td>\n",
       "      <td>132</td>\n",
       "      <td>124</td>\n",
       "      <td>118.0</td>\n",
       "      <td>64.5</td>\n",
       "      <td>816932</td>\n",
       "      <td>116.243454</td>\n",
       "      <td>108.838931</td>\n",
       "    </tr>\n",
       "    <tr>\n",
       "      <th>3</th>\n",
       "      <td>Male</td>\n",
       "      <td>139</td>\n",
       "      <td>123</td>\n",
       "      <td>150</td>\n",
       "      <td>143.0</td>\n",
       "      <td>73.3</td>\n",
       "      <td>1038437</td>\n",
       "      <td>93.882436</td>\n",
       "      <td>101.958650</td>\n",
       "    </tr>\n",
       "    <tr>\n",
       "      <th>4</th>\n",
       "      <td>Male</td>\n",
       "      <td>133</td>\n",
       "      <td>129</td>\n",
       "      <td>128</td>\n",
       "      <td>172.0</td>\n",
       "      <td>68.8</td>\n",
       "      <td>965353</td>\n",
       "      <td>94.718282</td>\n",
       "      <td>103.575365</td>\n",
       "    </tr>\n",
       "    <tr>\n",
       "      <th>5</th>\n",
       "      <td>Female</td>\n",
       "      <td>137</td>\n",
       "      <td>132</td>\n",
       "      <td>134</td>\n",
       "      <td>147.0</td>\n",
       "      <td>65.0</td>\n",
       "      <td>951545</td>\n",
       "      <td>89.270314</td>\n",
       "      <td>76.567381</td>\n",
       "    </tr>\n",
       "    <tr>\n",
       "      <th>6</th>\n",
       "      <td>Female</td>\n",
       "      <td>99</td>\n",
       "      <td>90</td>\n",
       "      <td>110</td>\n",
       "      <td>146.0</td>\n",
       "      <td>69.0</td>\n",
       "      <td>928799</td>\n",
       "      <td>108.654076</td>\n",
       "      <td>89.151674</td>\n",
       "    </tr>\n",
       "  </tbody>\n",
       "</table>\n",
       "</div>"
      ],
      "text/plain": [
       "   Gender  FSIQ  VIQ  PIQ  Weight  Height  MRI_Count       partY      partY2\n",
       "1  Female   133  132  124   118.0    64.5     816932  116.243454  108.838931\n",
       "3    Male   139  123  150   143.0    73.3    1038437   93.882436  101.958650\n",
       "4    Male   133  129  128   172.0    68.8     965353   94.718282  103.575365\n",
       "5  Female   137  132  134   147.0    65.0     951545   89.270314   76.567381\n",
       "6  Female    99   90  110   146.0    69.0     928799  108.654076   89.151674"
      ]
     },
     "execution_count": 8,
     "metadata": {},
     "output_type": "execute_result"
    }
   ],
   "source": [
    "np.random.seed(20)\n",
    "data['partY2'] = np.random.normal(loc=100,\n",
    "                                  scale =10, \n",
    "                                  size= len(data)) #according to shape, 38 rows\n",
    "data.head()"
   ]
  },
  {
   "cell_type": "markdown",
   "metadata": {},
   "source": [
    "#### Let's now check our descriptives statistics with the addition of the two variables"
   ]
  },
  {
   "cell_type": "code",
   "execution_count": 9,
   "metadata": {
    "scrolled": false
   },
   "outputs": [
    {
     "data": {
      "text/html": [
       "<div>\n",
       "<style scoped>\n",
       "    .dataframe tbody tr th:only-of-type {\n",
       "        vertical-align: middle;\n",
       "    }\n",
       "\n",
       "    .dataframe tbody tr th {\n",
       "        vertical-align: top;\n",
       "    }\n",
       "\n",
       "    .dataframe thead th {\n",
       "        text-align: right;\n",
       "    }\n",
       "</style>\n",
       "<table border=\"1\" class=\"dataframe\">\n",
       "  <thead>\n",
       "    <tr style=\"text-align: right;\">\n",
       "      <th></th>\n",
       "      <th>FSIQ</th>\n",
       "      <th>VIQ</th>\n",
       "      <th>PIQ</th>\n",
       "      <th>Weight</th>\n",
       "      <th>Height</th>\n",
       "      <th>MRI_Count</th>\n",
       "      <th>partY</th>\n",
       "      <th>partY2</th>\n",
       "    </tr>\n",
       "  </thead>\n",
       "  <tbody>\n",
       "    <tr>\n",
       "      <th>count</th>\n",
       "      <td>38.000000</td>\n",
       "      <td>38.000000</td>\n",
       "      <td>38.000000</td>\n",
       "      <td>38.000000</td>\n",
       "      <td>38.000000</td>\n",
       "      <td>3.800000e+01</td>\n",
       "      <td>38.000000</td>\n",
       "      <td>38.000000</td>\n",
       "    </tr>\n",
       "    <tr>\n",
       "      <th>mean</th>\n",
       "      <td>113.552632</td>\n",
       "      <td>112.131579</td>\n",
       "      <td>111.342105</td>\n",
       "      <td>151.052632</td>\n",
       "      <td>68.421053</td>\n",
       "      <td>9.067542e+05</td>\n",
       "      <td>98.424799</td>\n",
       "      <td>98.748172</td>\n",
       "    </tr>\n",
       "    <tr>\n",
       "      <th>std</th>\n",
       "      <td>23.815391</td>\n",
       "      <td>22.939605</td>\n",
       "      <td>22.597867</td>\n",
       "      <td>23.478509</td>\n",
       "      <td>3.993790</td>\n",
       "      <td>7.256175e+04</td>\n",
       "      <td>9.485507</td>\n",
       "      <td>11.626191</td>\n",
       "    </tr>\n",
       "    <tr>\n",
       "      <th>min</th>\n",
       "      <td>77.000000</td>\n",
       "      <td>71.000000</td>\n",
       "      <td>72.000000</td>\n",
       "      <td>106.000000</td>\n",
       "      <td>62.000000</td>\n",
       "      <td>7.906190e+05</td>\n",
       "      <td>76.984613</td>\n",
       "      <td>68.102972</td>\n",
       "    </tr>\n",
       "    <tr>\n",
       "      <th>25%</th>\n",
       "      <td>90.250000</td>\n",
       "      <td>90.250000</td>\n",
       "      <td>89.250000</td>\n",
       "      <td>135.250000</td>\n",
       "      <td>66.000000</td>\n",
       "      <td>8.548115e+05</td>\n",
       "      <td>92.561796</td>\n",
       "      <td>90.774232</td>\n",
       "    </tr>\n",
       "    <tr>\n",
       "      <th>50%</th>\n",
       "      <td>116.500000</td>\n",
       "      <td>113.000000</td>\n",
       "      <td>115.000000</td>\n",
       "      <td>146.500000</td>\n",
       "      <td>68.000000</td>\n",
       "      <td>9.053990e+05</td>\n",
       "      <td>97.048474</td>\n",
       "      <td>100.422918</td>\n",
       "    </tr>\n",
       "    <tr>\n",
       "      <th>75%</th>\n",
       "      <td>135.000000</td>\n",
       "      <td>129.000000</td>\n",
       "      <td>128.000000</td>\n",
       "      <td>172.000000</td>\n",
       "      <td>70.375000</td>\n",
       "      <td>9.495405e+05</td>\n",
       "      <td>105.233902</td>\n",
       "      <td>105.515396</td>\n",
       "    </tr>\n",
       "    <tr>\n",
       "      <th>max</th>\n",
       "      <td>144.000000</td>\n",
       "      <td>150.000000</td>\n",
       "      <td>150.000000</td>\n",
       "      <td>192.000000</td>\n",
       "      <td>77.000000</td>\n",
       "      <td>1.079549e+06</td>\n",
       "      <td>117.448118</td>\n",
       "      <td>120.598380</td>\n",
       "    </tr>\n",
       "  </tbody>\n",
       "</table>\n",
       "</div>"
      ],
      "text/plain": [
       "             FSIQ         VIQ         PIQ      Weight     Height  \\\n",
       "count   38.000000   38.000000   38.000000   38.000000  38.000000   \n",
       "mean   113.552632  112.131579  111.342105  151.052632  68.421053   \n",
       "std     23.815391   22.939605   22.597867   23.478509   3.993790   \n",
       "min     77.000000   71.000000   72.000000  106.000000  62.000000   \n",
       "25%     90.250000   90.250000   89.250000  135.250000  66.000000   \n",
       "50%    116.500000  113.000000  115.000000  146.500000  68.000000   \n",
       "75%    135.000000  129.000000  128.000000  172.000000  70.375000   \n",
       "max    144.000000  150.000000  150.000000  192.000000  77.000000   \n",
       "\n",
       "          MRI_Count       partY      partY2  \n",
       "count  3.800000e+01   38.000000   38.000000  \n",
       "mean   9.067542e+05   98.424799   98.748172  \n",
       "std    7.256175e+04    9.485507   11.626191  \n",
       "min    7.906190e+05   76.984613   68.102972  \n",
       "25%    8.548115e+05   92.561796   90.774232  \n",
       "50%    9.053990e+05   97.048474  100.422918  \n",
       "75%    9.495405e+05  105.233902  105.515396  \n",
       "max    1.079549e+06  117.448118  120.598380  "
      ]
     },
     "execution_count": 9,
     "metadata": {},
     "output_type": "execute_result"
    }
   ],
   "source": [
    "data.describe()"
   ]
  },
  {
   "cell_type": "markdown",
   "metadata": {},
   "source": [
    "## Statistical analyses"
   ]
  },
  {
   "cell_type": "markdown",
   "metadata": {},
   "source": [
    "### Multiple regression model with variable partY"
   ]
  },
  {
   "cell_type": "markdown",
   "metadata": {},
   "source": [
    "FSIQ, VIQ and PIQ combined must certainly be good predictors. Let's observe the prediction potential of these factors on the variable partY"
   ]
  },
  {
   "cell_type": "code",
   "execution_count": 10,
   "metadata": {
    "scrolled": true
   },
   "outputs": [
    {
     "name": "stdout",
     "output_type": "stream",
     "text": [
      "                            OLS Regression Results                            \n",
      "==============================================================================\n",
      "Dep. Variable:                  partY   R-squared:                       0.268\n",
      "Model:                            OLS   Adj. R-squared:                  0.204\n",
      "Method:                 Least Squares   F-statistic:                     4.156\n",
      "Date:                Sat, 30 May 2020   Prob (F-statistic):             0.0130\n",
      "Time:                        13:34:04   Log-Likelihood:                -132.97\n",
      "No. Observations:                  38   AIC:                             273.9\n",
      "Df Residuals:                      34   BIC:                             280.5\n",
      "Df Model:                           3                                         \n",
      "Covariance Type:            nonrobust                                         \n",
      "==============================================================================\n",
      "                 coef    std err          t      P>|t|      [0.025      0.975]\n",
      "------------------------------------------------------------------------------\n",
      "Intercept     78.0523     11.027      7.078      0.000      55.642     100.463\n",
      "FSIQ          -2.7029      0.810     -3.335      0.002      -4.350      -1.056\n",
      "VIQ            1.4627      0.475      3.078      0.004       0.497       2.428\n",
      "PIQ            1.4665      0.442      3.314      0.002       0.567       2.366\n",
      "==============================================================================\n",
      "Omnibus:                        2.192   Durbin-Watson:                   2.342\n",
      "Prob(Omnibus):                  0.334   Jarque-Bera (JB):                1.158\n",
      "Skew:                           0.339   Prob(JB):                        0.560\n",
      "Kurtosis:                       3.521   Cond. No.                     1.60e+03\n",
      "==============================================================================\n",
      "\n",
      "Warnings:\n",
      "[1] Standard Errors assume that the covariance matrix of the errors is correctly specified.\n",
      "[2] The condition number is large, 1.6e+03. This might indicate that there are\n",
      "strong multicollinearity or other numerical problems.\n"
     ]
    }
   ],
   "source": [
    "# Fit the model\n",
    "model_partY = ols('partY ~ FSIQ + VIQ + PIQ', data).fit()\n",
    "\n",
    "# Print the summary\n",
    "print(model_partY.summary())"
   ]
  },
  {
   "cell_type": "markdown",
   "metadata": {},
   "source": [
    "#### Results"
   ]
  },
  {
   "cell_type": "markdown",
   "metadata": {},
   "source": [
    "* The intercept β^0=78.052\n",
    "* The slopes β^1= [FISQ(-2.703, p =0.002);VIQ(1.463, p= 0.004);PIQ(1.467, p = 0.002)]\n",
    "* R-squared value of 0.268; around 27 % of variation of partY is explained by the three types of intelligence quotient.\n",
    "\n",
    "Here, all three prediction effects of the 3 factors are significant. FSIQ has a statistically significant (using p < 0.05 as a rejection rule) negative effect on partY outcomes, VIQ has a statistically significant (using p < 0.05 as a rejection rule) positive predicting effect of partY and PIQ has also a statistically significant (using p < 0.05 as a rejection rule) positive predicting effect of partY.\n"
   ]
  },
  {
   "cell_type": "markdown",
   "metadata": {},
   "source": [
    "#### Observation of the regressors"
   ]
  },
  {
   "cell_type": "code",
   "execution_count": 11,
   "metadata": {
    "scrolled": false
   },
   "outputs": [
    {
     "data": {
      "image/png": "[encoded data removed]",
      "text/plain": [
       "<Figure size 864x576 with 4 Axes>"
      ]
     },
     "metadata": {
      "needs_background": "light"
     },
     "output_type": "display_data"
    }
   ],
   "source": [
    "fig = plt.figure(figsize=(12,8))\n",
    "fig = sm.graphics.plot_partregress_grid(model_partY, fig=fig)\n",
    "#https://www.statsmodels.org/dev/examples/notebooks/generated/regression_plots.html"
   ]
  },
  {
   "cell_type": "markdown",
   "metadata": {},
   "source": [
    "#### Plot the residuals"
   ]
  },
  {
   "cell_type": "code",
   "execution_count": 12,
   "metadata": {
    "scrolled": true
   },
   "outputs": [
    {
     "data": {
      "image/png": "[encoded data removed]",
      "text/plain": [
       "<Figure size 864x576 with 3 Axes>"
      ]
     },
     "metadata": {
      "needs_background": "light"
     },
     "output_type": "display_data"
    }
   ],
   "source": [
    "fig = plt.figure(figsize=(12, 8))\n",
    "fig = sm.graphics.plot_ccpr_grid(model_partY, fig=fig)"
   ]
  },
  {
   "cell_type": "markdown",
   "metadata": {},
   "source": [
    "### Multiple regression model with variable partY2"
   ]
  },
  {
   "cell_type": "code",
   "execution_count": 13,
   "metadata": {
    "scrolled": false
   },
   "outputs": [
    {
     "name": "stdout",
     "output_type": "stream",
     "text": [
      "                            OLS Regression Results                            \n",
      "==============================================================================\n",
      "Dep. Variable:                 partY2   R-squared:                       0.034\n",
      "Model:                            OLS   Adj. R-squared:                 -0.052\n",
      "Method:                 Least Squares   F-statistic:                    0.3932\n",
      "Date:                Sat, 30 May 2020   Prob (F-statistic):              0.759\n",
      "Time:                        13:34:06   Log-Likelihood:                -145.99\n",
      "No. Observations:                  38   AIC:                             300.0\n",
      "Df Residuals:                      34   BIC:                             306.5\n",
      "Df Model:                           3                                         \n",
      "Covariance Type:            nonrobust                                         \n",
      "==============================================================================\n",
      "                 coef    std err          t      P>|t|      [0.025      0.975]\n",
      "------------------------------------------------------------------------------\n",
      "Intercept    112.0505     15.534      7.213      0.000      80.481     143.620\n",
      "FSIQ           1.1595      1.142      1.016      0.317      -1.161       3.480\n",
      "VIQ           -0.6272      0.669     -0.937      0.355      -1.987       0.733\n",
      "PIQ           -0.6703      0.623     -1.075      0.290      -1.937       0.596\n",
      "==============================================================================\n",
      "Omnibus:                        0.991   Durbin-Watson:                   1.841\n",
      "Prob(Omnibus):                  0.609   Jarque-Bera (JB):                1.008\n",
      "Skew:                          -0.340   Prob(JB):                        0.604\n",
      "Kurtosis:                       2.584   Cond. No.                     1.60e+03\n",
      "==============================================================================\n",
      "\n",
      "Warnings:\n",
      "[1] Standard Errors assume that the covariance matrix of the errors is correctly specified.\n",
      "[2] The condition number is large, 1.6e+03. This might indicate that there are\n",
      "strong multicollinearity or other numerical problems.\n"
     ]
    }
   ],
   "source": [
    "# Fit the model\n",
    "model_partY2 = ols('partY2 ~ FSIQ + VIQ + PIQ', data).fit()\n",
    "\n",
    "# Print the summary\n",
    "print(model_partY2.summary())"
   ]
  },
  {
   "cell_type": "markdown",
   "metadata": {},
   "source": [
    "Here, we can observe totally different p-values for the slopes of FSIQ, VIQ and PIQ, when the combination of the variables FSIQ, VIQ and PIQ are set to predict partY2. The variabe partY2 is therefore not well predicted by the three factors FSIQ, VIQ and PIQ. We will not report the results of this model on partY2 as it does not yield significant results.\n"
   ]
  },
  {
   "cell_type": "markdown",
   "metadata": {},
   "source": [
    "#### P-hacking and broader bias in science"
   ]
  },
  {
   "cell_type": "markdown",
   "metadata": {},
   "source": [
    "P-hacking can take various forms. The latter is the manipulation of data collection, usage, or analyses to obtain statistically significant outcomes. P-hacking as described, reports directly to p-values but the issue can be broader and more indirect and still have great negative impact on result reporting and bias in science. For example, it can be reporting significant results of a model that violates assumptions, or selective reporting of only significance results, not mentioning absence of effect for example. \n",
    "\n",
    "1) Indeed, a big mistake that was made here is the absence of assumption checking. As soon as we saw that very significant results were obtain with the model with partY, we let go of assumptions in order to assure statistical significant results. This is definitely a form of manipulation of analysis. In order to conduct multiple regression, these following assumptions must be met: \n",
    "* A linear relationship between the dependent variables and the independent variables.\n",
    "* The independent variables are not too highly correlated with each other.\n",
    "* Independance of observation (i.e., independence of residuals)\n",
    "* Residuals should be normally distributed with a mean of 0 and variance σ.\n",
    "* There should be no significant outliers, high leverage points or highly influential points\n",
    "* Your data needs to show homoscedasticity of residuals (equal error variances)\n",
    "\n",
    "Violation of assumptions introduces bias, the validity of assumptions must be confirmed prior to data analysis to ensure that the methods and strategies chosen are appropriate and will yield valid results. In this case, for example, the relationship of partY with the independent variables was not linear in any case. Additionnaly, the output of the ols models gave an indication that: \"The condition number is large, 1.6e+03. This might indicate that there arestrong multicollinearity or other numerical problems\". \n",
    "\n",
    "These violation combined with the absent verification of the other assumption invalidates the results, their statistical significance and their interpretation from both models.\n",
    "\n",
    "2) Selective reporting is a definite bias and was observed in this case. Here as the model trying to predict partY2 did not result in any statistically significant p-values we chose not to report it and only report the \"statistically significant\" results of the model with partY. \n",
    "\n",
    "Mostly the result of publication bias, it has also led to another form of p-hacking \"reverse p-hacking\" via several manipulation whereby researchers ensure that tests produce a nonsignificant result.\n",
    "\n"
   ]
  },
  {
   "cell_type": "code",
   "execution_count": null,
   "metadata": {},
   "outputs": [],
   "source": []
  }
 ],
 "metadata": {
  "kernelspec": {
   "display_name": "Python 3",
   "language": "python",
   "name": "python3"
  },
  "language_info": {
   "codemirror_mode": {
    "name": "ipython",
    "version": 3
   },
   "file_extension": ".py",
   "mimetype": "text/x-python",
   "name": "python",
   "nbconvert_exporter": "python",
   "pygments_lexer": "ipython3",
   "version": "3.7.6"
  }
 },
 "nbformat": 4,
 "nbformat_minor": 4
}
